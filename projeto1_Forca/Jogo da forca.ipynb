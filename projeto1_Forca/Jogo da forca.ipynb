{
 "cells": [
  {
   "cell_type": "code",
   "execution_count": null,
   "id": "634f0eb7",
   "metadata": {},
   "outputs": [],
   "source": [
    "# O projeto de número 1 consiste no jogo \"forca\"\n",
    "# O usuário digita letras e devemos apresentar na tela se a letra faz parte da palavra escolhida aleatoriamente pelo programa ou não\n",
    "# Temos que de inicio apresentar a quantidade de caracteres da palavra em uma sequencia de '_' já com os espaços\n",
    "# A palavra será extraída aleatoriamente de um arquivo que estará na pasta atual\n",
    "# Se acertar a letra, colocamos ela no lugar e o numero de vidas permanece intacto\n",
    "# Se errar a letra, ela entra pra lista de letras erradas e subtrai uma vida"
   ]
  },
  {
   "cell_type": "code",
   "execution_count": 12,
   "id": "1690850c",
   "metadata": {},
   "outputs": [],
   "source": [
    "# Funcao que verifica se o jogo acabou\n",
    "def Acabou(palavraUsuario):\n",
    "    for i in palavraUsuario:\n",
    "        if i == '_' and chances > 0:\n",
    "            return False\n",
    "    return True\n"
   ]
  },
  {
   "cell_type": "code",
   "execution_count": 13,
   "id": "2657020a",
   "metadata": {},
   "outputs": [],
   "source": [
    "# Função que define se a jogada deu certo ou errado booleana\n",
    "def Verifica(letra, palavra):\n",
    "\n",
    "    for l in palavra:\n",
    "        if letra == l:\n",
    "            return True\n",
    "        \n",
    "    return False"
   ]
  },
  {
   "cell_type": "code",
   "execution_count": 14,
   "id": "2497093e",
   "metadata": {},
   "outputs": [],
   "source": [
    "# Função que faz as trocas na lista a ser printada na tela\n",
    "def Troca(palavraUsuario, letra, palavra):\n",
    "    i=0\n",
    "    for l in palavra:\n",
    "        if letra == l:\n",
    "            palavraUsuario[i] = l\n",
    "            \n",
    "        i+=1\n",
    "        \n",
    "    return palavraUsuario  "
   ]
  },
  {
   "cell_type": "code",
   "execution_count": 15,
   "id": "a0530ef5",
   "metadata": {},
   "outputs": [],
   "source": [
    "# Função que printa o jogo\n",
    "def Imprime(palavraUsuario, chances, letrasErradas):\n",
    "    strpal = ''\n",
    "    for i in palavraUsuario:\n",
    "        strpal = strpal + i + ' '\n",
    "    print(strpal,\"\\n\\nChances restantes: \", chances, \"\\nLetras erradas: \", letrasErradas, \"\\n\\n\")"
   ]
  },
  {
   "cell_type": "code",
   "execution_count": null,
   "id": "69558c14",
   "metadata": {},
   "outputs": [
    {
     "name": "stdout",
     "output_type": "stream",
     "text": [
      "Advinhe a palavra abaixo:\n",
      "_   _ _ _ _ _ _ _ _   _ _ _ _ _   _ _   _ _ _ _ _ _ _  \n",
      "\n",
      "Chances restantes:  6 \n",
      "Letras erradas:  [] \n",
      "\n",
      "\n",
      "Digite uma letra:  \n",
      "Letra inválida. Verifique se já digitou essa letra ou se é um caracter válido do alfabeto e tente novamente!\n",
      "Digite uma letra: o\n",
      "o   _ _ _ _ _ _ _ _   _ _ _ _ o   _ _   _ _ _ _ _ _ _  \n",
      "\n",
      "Chances restantes:  6 \n",
      "Letras erradas:  [] \n",
      "\n",
      "\n",
      "Digite uma letra: i\n",
      "o   i _ _ _ _ _ _ _   _ _ _ _ o   _ _   _ _ _ _ _ _ _  \n",
      "\n",
      "Chances restantes:  6 \n",
      "Letras erradas:  [] \n",
      "\n",
      "\n",
      "Digite uma letra: í\n",
      "o   i _ _ _ í _ _ _   _ _ _ _ o   _ _   _ _ _ _ _ _ _  \n",
      "\n",
      "Chances restantes:  6 \n",
      "Letras erradas:  [] \n",
      "\n",
      "\n"
     ]
    }
   ],
   "source": [
    "import random\n",
    "\n",
    "# Primeiro passo: extrair a palavra de forma aleatória do arquivo. Posso pegar todo o arquivo e sortear aleatoriamente com a função de aleatoriedade\n",
    "## Definir a lista\n",
    "#palavrasForca = ['uva', 'melao', 'melancia', 'banana', 'abacate', 'mamao']\n",
    "palavrasForca = [\"o incrível mundo de gumball\"]\n",
    "\n",
    "\n",
    "# Aleatoriezar escolha\n",
    "aleatorio = random.randint(0,len(palavrasForca)-1)\n",
    "palavra = palavrasForca[aleatorio]\n",
    "tamanho = len(palavra)\n",
    "\n",
    "# Lista que será a montagem da palavra do usuario + declaração de variáveis\n",
    "palavraUsuario = ['_']*tamanho\n",
    "letrasErradas = []\n",
    "letrasDigitadas = []\n",
    "chances = 6\n",
    "\n",
    "# Segundo passo: Imprimir na tela os primeiros passos para o jogador jogar o jogo\n",
    "print(\"Advinhe a palavra abaixo:\")\n",
    "letra = \" \"\n",
    "palavraUsuario = Troca(palavraUsuario, letra, palavra)\n",
    "while(not Acabou(palavraUsuario)):\n",
    "    Imprime(palavraUsuario, chances, letrasErradas)\n",
    "    letra = input(\"Digite uma letra: \").lower()\n",
    "    while((letra in letrasDigitadas) or (not letra.isalpha()) or (len(letra) != 1)):\n",
    "        letra = input(\"Letra inválida. Verifique se já digitou essa letra ou se é um caracter válido do alfabeto e tente novamente!\\nDigite uma letra: \")\n",
    "            \n",
    "    letrasDigitadas.append(letra)\n",
    "    if(Verifica(letra,palavra)):\n",
    "\n",
    "        palavraUsuario = Troca(palavraUsuario, letra, palavra)\n",
    "        \n",
    "    else:\n",
    "\n",
    "        chances = chances - 1\n",
    "        letrasErradas.append(letra)\n",
    "        \n",
    "    \n",
    "if chances == 0:\n",
    "    print(\"Você perdeu, a palavra era: \", palavra)\n",
    "else:\n",
    "    print(\"Paranbens! Você venceu. A palavra era: \", palavra)\n"
   ]
  },
  {
   "cell_type": "code",
   "execution_count": null,
   "id": "41fde078",
   "metadata": {},
   "outputs": [],
   "source": []
  }
 ],
 "metadata": {
  "kernelspec": {
   "display_name": "Python 3 (ipykernel)",
   "language": "python",
   "name": "python3"
  },
  "language_info": {
   "codemirror_mode": {
    "name": "ipython",
    "version": 3
   },
   "file_extension": ".py",
   "mimetype": "text/x-python",
   "name": "python",
   "nbconvert_exporter": "python",
   "pygments_lexer": "ipython3",
   "version": "3.9.13"
  }
 },
 "nbformat": 4,
 "nbformat_minor": 5
}
